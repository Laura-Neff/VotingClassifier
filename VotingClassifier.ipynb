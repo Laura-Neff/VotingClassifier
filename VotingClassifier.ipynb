{
  "nbformat": 4,
  "nbformat_minor": 0,
  "metadata": {
    "colab": {
      "name": "VotingClassifier.ipynb",
      "provenance": [],
      "collapsed_sections": [],
      "authorship_tag": "ABX9TyNmOKqYVE70zTotTLA7AlMB",
      "include_colab_link": true
    },
    "kernelspec": {
      "name": "python3",
      "display_name": "Python 3"
    },
    "language_info": {
      "name": "python"
    }
  },
  "cells": [
    {
      "cell_type": "markdown",
      "metadata": {
        "id": "view-in-github",
        "colab_type": "text"
      },
      "source": [
        "<a href=\"https://colab.research.google.com/github/Laura-Neff/VotingClassifier/blob/main/VotingClassifier.ipynb\" target=\"_parent\"><img src=\"https://colab.research.google.com/assets/colab-badge.svg\" alt=\"Open In Colab\"/></a>"
      ]
    },
    {
      "cell_type": "code",
      "execution_count": null,
      "metadata": {
        "id": "QgHPMIaQ1WGn"
      },
      "outputs": [],
      "source": [
        "import pandas as pd"
      ]
    },
    {
      "cell_type": "code",
      "source": [
        "diabetes_data = pd.read_csv('PimaIndians_processed.csv')\n",
        "\n",
        "diabetes_data.head(10)"
      ],
      "metadata": {
        "colab": {
          "base_uri": "https://localhost:8080/",
          "height": 363
        },
        "id": "dMlBgvID1_X1",
        "outputId": "79e019ce-122b-4aac-ae79-9d9901352289"
      },
      "execution_count": null,
      "outputs": [
        {
          "output_type": "execute_result",
          "data": {
            "text/plain": [
              "   pregnant   glucose  diastolic   triceps   insulin       bmi  diabetes  \\\n",
              "0 -0.717427 -1.091046  -0.373655 -0.585110 -0.522842 -0.710421 -1.031876   \n",
              "1 -1.029213  0.466314  -2.456964  0.557421  0.100631  1.426730  5.115111   \n",
              "2 -0.093854 -1.447941  -1.655691  0.271788 -0.573394 -0.297238 -0.797126   \n",
              "3 -0.405640  2.413014  -0.053146  1.509530  3.260122 -0.368477 -1.057960   \n",
              "4 -0.717427  2.153454  -0.854419 -0.585110  5.812990 -0.425468 -0.362402   \n",
              "5  0.529718  1.407219   0.107109 -0.965953  0.159608 -1.038117  0.185349   \n",
              "6 -1.029213 -0.150141   1.068636  1.699951  0.623000  1.811417  0.081015   \n",
              "7 -0.717427 -0.636816  -3.258237  0.843053 -0.615520  1.455225 -0.985506   \n",
              "8 -0.717427 -0.247476  -0.053146  0.081366 -0.505991  0.215678  0.017256   \n",
              "9 -0.093854  0.109419   1.389146  1.128686  0.665127  0.885318  0.524433   \n",
              "\n",
              "        age  test  \n",
              "0 -0.968299     0  \n",
              "1  0.209585     1  \n",
              "2 -0.477514     1  \n",
              "3  2.172726     1  \n",
              "4  2.761668     1  \n",
              "5  1.976412     1  \n",
              "6  0.013271     1  \n",
              "7  0.209585     0  \n",
              "8  0.111428     1  \n",
              "9 -0.379357     0  "
            ],
            "text/html": [
              "\n",
              "  <div id=\"df-3af2c201-30e0-45c4-ac5d-60ba5052c765\">\n",
              "    <div class=\"colab-df-container\">\n",
              "      <div>\n",
              "<style scoped>\n",
              "    .dataframe tbody tr th:only-of-type {\n",
              "        vertical-align: middle;\n",
              "    }\n",
              "\n",
              "    .dataframe tbody tr th {\n",
              "        vertical-align: top;\n",
              "    }\n",
              "\n",
              "    .dataframe thead th {\n",
              "        text-align: right;\n",
              "    }\n",
              "</style>\n",
              "<table border=\"1\" class=\"dataframe\">\n",
              "  <thead>\n",
              "    <tr style=\"text-align: right;\">\n",
              "      <th></th>\n",
              "      <th>pregnant</th>\n",
              "      <th>glucose</th>\n",
              "      <th>diastolic</th>\n",
              "      <th>triceps</th>\n",
              "      <th>insulin</th>\n",
              "      <th>bmi</th>\n",
              "      <th>diabetes</th>\n",
              "      <th>age</th>\n",
              "      <th>test</th>\n",
              "    </tr>\n",
              "  </thead>\n",
              "  <tbody>\n",
              "    <tr>\n",
              "      <th>0</th>\n",
              "      <td>-0.717427</td>\n",
              "      <td>-1.091046</td>\n",
              "      <td>-0.373655</td>\n",
              "      <td>-0.585110</td>\n",
              "      <td>-0.522842</td>\n",
              "      <td>-0.710421</td>\n",
              "      <td>-1.031876</td>\n",
              "      <td>-0.968299</td>\n",
              "      <td>0</td>\n",
              "    </tr>\n",
              "    <tr>\n",
              "      <th>1</th>\n",
              "      <td>-1.029213</td>\n",
              "      <td>0.466314</td>\n",
              "      <td>-2.456964</td>\n",
              "      <td>0.557421</td>\n",
              "      <td>0.100631</td>\n",
              "      <td>1.426730</td>\n",
              "      <td>5.115111</td>\n",
              "      <td>0.209585</td>\n",
              "      <td>1</td>\n",
              "    </tr>\n",
              "    <tr>\n",
              "      <th>2</th>\n",
              "      <td>-0.093854</td>\n",
              "      <td>-1.447941</td>\n",
              "      <td>-1.655691</td>\n",
              "      <td>0.271788</td>\n",
              "      <td>-0.573394</td>\n",
              "      <td>-0.297238</td>\n",
              "      <td>-0.797126</td>\n",
              "      <td>-0.477514</td>\n",
              "      <td>1</td>\n",
              "    </tr>\n",
              "    <tr>\n",
              "      <th>3</th>\n",
              "      <td>-0.405640</td>\n",
              "      <td>2.413014</td>\n",
              "      <td>-0.053146</td>\n",
              "      <td>1.509530</td>\n",
              "      <td>3.260122</td>\n",
              "      <td>-0.368477</td>\n",
              "      <td>-1.057960</td>\n",
              "      <td>2.172726</td>\n",
              "      <td>1</td>\n",
              "    </tr>\n",
              "    <tr>\n",
              "      <th>4</th>\n",
              "      <td>-0.717427</td>\n",
              "      <td>2.153454</td>\n",
              "      <td>-0.854419</td>\n",
              "      <td>-0.585110</td>\n",
              "      <td>5.812990</td>\n",
              "      <td>-0.425468</td>\n",
              "      <td>-0.362402</td>\n",
              "      <td>2.761668</td>\n",
              "      <td>1</td>\n",
              "    </tr>\n",
              "    <tr>\n",
              "      <th>5</th>\n",
              "      <td>0.529718</td>\n",
              "      <td>1.407219</td>\n",
              "      <td>0.107109</td>\n",
              "      <td>-0.965953</td>\n",
              "      <td>0.159608</td>\n",
              "      <td>-1.038117</td>\n",
              "      <td>0.185349</td>\n",
              "      <td>1.976412</td>\n",
              "      <td>1</td>\n",
              "    </tr>\n",
              "    <tr>\n",
              "      <th>6</th>\n",
              "      <td>-1.029213</td>\n",
              "      <td>-0.150141</td>\n",
              "      <td>1.068636</td>\n",
              "      <td>1.699951</td>\n",
              "      <td>0.623000</td>\n",
              "      <td>1.811417</td>\n",
              "      <td>0.081015</td>\n",
              "      <td>0.013271</td>\n",
              "      <td>1</td>\n",
              "    </tr>\n",
              "    <tr>\n",
              "      <th>7</th>\n",
              "      <td>-0.717427</td>\n",
              "      <td>-0.636816</td>\n",
              "      <td>-3.258237</td>\n",
              "      <td>0.843053</td>\n",
              "      <td>-0.615520</td>\n",
              "      <td>1.455225</td>\n",
              "      <td>-0.985506</td>\n",
              "      <td>0.209585</td>\n",
              "      <td>0</td>\n",
              "    </tr>\n",
              "    <tr>\n",
              "      <th>8</th>\n",
              "      <td>-0.717427</td>\n",
              "      <td>-0.247476</td>\n",
              "      <td>-0.053146</td>\n",
              "      <td>0.081366</td>\n",
              "      <td>-0.505991</td>\n",
              "      <td>0.215678</td>\n",
              "      <td>0.017256</td>\n",
              "      <td>0.111428</td>\n",
              "      <td>1</td>\n",
              "    </tr>\n",
              "    <tr>\n",
              "      <th>9</th>\n",
              "      <td>-0.093854</td>\n",
              "      <td>0.109419</td>\n",
              "      <td>1.389146</td>\n",
              "      <td>1.128686</td>\n",
              "      <td>0.665127</td>\n",
              "      <td>0.885318</td>\n",
              "      <td>0.524433</td>\n",
              "      <td>-0.379357</td>\n",
              "      <td>0</td>\n",
              "    </tr>\n",
              "  </tbody>\n",
              "</table>\n",
              "</div>\n",
              "      <button class=\"colab-df-convert\" onclick=\"convertToInteractive('df-3af2c201-30e0-45c4-ac5d-60ba5052c765')\"\n",
              "              title=\"Convert this dataframe to an interactive table.\"\n",
              "              style=\"display:none;\">\n",
              "        \n",
              "  <svg xmlns=\"http://www.w3.org/2000/svg\" height=\"24px\"viewBox=\"0 0 24 24\"\n",
              "       width=\"24px\">\n",
              "    <path d=\"M0 0h24v24H0V0z\" fill=\"none\"/>\n",
              "    <path d=\"M18.56 5.44l.94 2.06.94-2.06 2.06-.94-2.06-.94-.94-2.06-.94 2.06-2.06.94zm-11 1L8.5 8.5l.94-2.06 2.06-.94-2.06-.94L8.5 2.5l-.94 2.06-2.06.94zm10 10l.94 2.06.94-2.06 2.06-.94-2.06-.94-.94-2.06-.94 2.06-2.06.94z\"/><path d=\"M17.41 7.96l-1.37-1.37c-.4-.4-.92-.59-1.43-.59-.52 0-1.04.2-1.43.59L10.3 9.45l-7.72 7.72c-.78.78-.78 2.05 0 2.83L4 21.41c.39.39.9.59 1.41.59.51 0 1.02-.2 1.41-.59l7.78-7.78 2.81-2.81c.8-.78.8-2.07 0-2.86zM5.41 20L4 18.59l7.72-7.72 1.47 1.35L5.41 20z\"/>\n",
              "  </svg>\n",
              "      </button>\n",
              "      \n",
              "  <style>\n",
              "    .colab-df-container {\n",
              "      display:flex;\n",
              "      flex-wrap:wrap;\n",
              "      gap: 12px;\n",
              "    }\n",
              "\n",
              "    .colab-df-convert {\n",
              "      background-color: #E8F0FE;\n",
              "      border: none;\n",
              "      border-radius: 50%;\n",
              "      cursor: pointer;\n",
              "      display: none;\n",
              "      fill: #1967D2;\n",
              "      height: 32px;\n",
              "      padding: 0 0 0 0;\n",
              "      width: 32px;\n",
              "    }\n",
              "\n",
              "    .colab-df-convert:hover {\n",
              "      background-color: #E2EBFA;\n",
              "      box-shadow: 0px 1px 2px rgba(60, 64, 67, 0.3), 0px 1px 3px 1px rgba(60, 64, 67, 0.15);\n",
              "      fill: #174EA6;\n",
              "    }\n",
              "\n",
              "    [theme=dark] .colab-df-convert {\n",
              "      background-color: #3B4455;\n",
              "      fill: #D2E3FC;\n",
              "    }\n",
              "\n",
              "    [theme=dark] .colab-df-convert:hover {\n",
              "      background-color: #434B5C;\n",
              "      box-shadow: 0px 1px 3px 1px rgba(0, 0, 0, 0.15);\n",
              "      filter: drop-shadow(0px 1px 2px rgba(0, 0, 0, 0.3));\n",
              "      fill: #FFFFFF;\n",
              "    }\n",
              "  </style>\n",
              "\n",
              "      <script>\n",
              "        const buttonEl =\n",
              "          document.querySelector('#df-3af2c201-30e0-45c4-ac5d-60ba5052c765 button.colab-df-convert');\n",
              "        buttonEl.style.display =\n",
              "          google.colab.kernel.accessAllowed ? 'block' : 'none';\n",
              "\n",
              "        async function convertToInteractive(key) {\n",
              "          const element = document.querySelector('#df-3af2c201-30e0-45c4-ac5d-60ba5052c765');\n",
              "          const dataTable =\n",
              "            await google.colab.kernel.invokeFunction('convertToInteractive',\n",
              "                                                     [key], {});\n",
              "          if (!dataTable) return;\n",
              "\n",
              "          const docLinkHtml = 'Like what you see? Visit the ' +\n",
              "            '<a target=\"_blank\" href=https://colab.research.google.com/notebooks/data_table.ipynb>data table notebook</a>'\n",
              "            + ' to learn more about interactive tables.';\n",
              "          element.innerHTML = '';\n",
              "          dataTable['output_type'] = 'display_data';\n",
              "          await google.colab.output.renderOutput(dataTable, element);\n",
              "          const docLink = document.createElement('div');\n",
              "          docLink.innerHTML = docLinkHtml;\n",
              "          element.appendChild(docLink);\n",
              "        }\n",
              "      </script>\n",
              "    </div>\n",
              "  </div>\n",
              "  "
            ]
          },
          "metadata": {},
          "execution_count": 78
        }
      ]
    },
    {
      "cell_type": "code",
      "source": [
        "diabetes_data.info()"
      ],
      "metadata": {
        "colab": {
          "base_uri": "https://localhost:8080/"
        },
        "id": "VKC6l00y2GRN",
        "outputId": "6fcb6178-f080-4a53-d70d-ff0f46ea7803"
      },
      "execution_count": null,
      "outputs": [
        {
          "output_type": "stream",
          "name": "stdout",
          "text": [
            "<class 'pandas.core.frame.DataFrame'>\n",
            "RangeIndex: 392 entries, 0 to 391\n",
            "Data columns (total 9 columns):\n",
            " #   Column     Non-Null Count  Dtype  \n",
            "---  ------     --------------  -----  \n",
            " 0   pregnant   392 non-null    float64\n",
            " 1   glucose    392 non-null    float64\n",
            " 2   diastolic  392 non-null    float64\n",
            " 3   triceps    392 non-null    float64\n",
            " 4   insulin    392 non-null    float64\n",
            " 5   bmi        392 non-null    float64\n",
            " 6   diabetes   392 non-null    float64\n",
            " 7   age        392 non-null    float64\n",
            " 8   test       392 non-null    int64  \n",
            "dtypes: float64(8), int64(1)\n",
            "memory usage: 27.7 KB\n"
          ]
        }
      ]
    },
    {
      "cell_type": "code",
      "source": [
        "X = diabetes_data.drop('test', axis=1)\n",
        "\n",
        "Y = diabetes_data['test']"
      ],
      "metadata": {
        "id": "y2m7tlmU2GT4"
      },
      "execution_count": null,
      "outputs": []
    },
    {
      "cell_type": "code",
      "source": [
        "from sklearn.model_selection import train_test_split\n",
        "\n",
        "x_train, x_test, y_train, y_test = train_test_split(X, Y, test_size=0.2)"
      ],
      "metadata": {
        "id": "i8xshWZI3ZEv"
      },
      "execution_count": null,
      "outputs": []
    },
    {
      "cell_type": "code",
      "source": [
        "x_train.shape, y_train.shape"
      ],
      "metadata": {
        "colab": {
          "base_uri": "https://localhost:8080/"
        },
        "id": "Cke5AlAW3ZHw",
        "outputId": "fb633b48-5a24-4bfc-e837-64802bfac08d"
      },
      "execution_count": null,
      "outputs": [
        {
          "output_type": "execute_result",
          "data": {
            "text/plain": [
              "((313, 8), (313,))"
            ]
          },
          "metadata": {},
          "execution_count": 82
        }
      ]
    },
    {
      "cell_type": "code",
      "source": [
        "x_test.shape, y_test.shape"
      ],
      "metadata": {
        "colab": {
          "base_uri": "https://localhost:8080/"
        },
        "id": "DZPfNTQo3ZKv",
        "outputId": "0ac119be-888d-46c2-e01d-824a594a93e5"
      },
      "execution_count": null,
      "outputs": [
        {
          "output_type": "execute_result",
          "data": {
            "text/plain": [
              "((79, 8), (79,))"
            ]
          },
          "metadata": {},
          "execution_count": 83
        }
      ]
    },
    {
      "cell_type": "markdown",
      "source": [
        "##Voting Classifier"
      ],
      "metadata": {
        "id": "KEgZr8eW3xK_"
      }
    },
    {
      "cell_type": "code",
      "source": [
        "from sklearn.ensemble import VotingClassifier\n",
        "\n",
        "from sklearn.linear_model import LogisticRegression\n",
        "from sklearn.svm import SVC\n",
        "from sklearn.naive_bayes import GaussianNB"
      ],
      "metadata": {
        "id": "LsGuWx8W2GWw"
      },
      "execution_count": null,
      "outputs": []
    },
    {
      "cell_type": "code",
      "source": [
        "log_clf = LogisticRegression(C=1, solver='liblinear')\n",
        "\n",
        "svc_clf = SVC(C=1, kernel='linear', gamma='auto')\n",
        "\n",
        "naive_clf = GaussianNB()"
      ],
      "metadata": {
        "id": "bnBiPHxS1_as"
      },
      "execution_count": null,
      "outputs": []
    },
    {
      "cell_type": "markdown",
      "source": [
        "##Hard voting\n",
        "Hard voting classifier (voting='hard') aggregate the predictions of each classifier and predict the class that gets the most votes"
      ],
      "metadata": {
        "id": "zXfXBgcx35qc"
      }
    },
    {
      "cell_type": "code",
      "source": [
        "voting_clf_hard = VotingClassifier(estimators=[('lr', log_clf), \n",
        "                                               ('svc', svc_clf), \n",
        "                                               ('naive', naive_clf)],\n",
        "                                   voting='hard')\n",
        "\n",
        "#hard voting = majority vote "
      ],
      "metadata": {
        "id": "IKRPf54x3zw0"
      },
      "execution_count": null,
      "outputs": []
    },
    {
      "cell_type": "code",
      "source": [
        "voting_clf_hard.fit(x_train, y_train)\n",
        "\n",
        "#train the voting classifier with training data"
      ],
      "metadata": {
        "colab": {
          "base_uri": "https://localhost:8080/"
        },
        "id": "cE3WdIwr3zzv",
        "outputId": "afa912a9-1719-4108-bf19-fb51c250c944"
      },
      "execution_count": null,
      "outputs": [
        {
          "output_type": "execute_result",
          "data": {
            "text/plain": [
              "VotingClassifier(estimators=[('lr',\n",
              "                              LogisticRegression(C=1, solver='liblinear')),\n",
              "                             ('svc', SVC(C=1, gamma='auto', kernel='linear')),\n",
              "                             ('naive', GaussianNB())])"
            ]
          },
          "metadata": {},
          "execution_count": 87
        }
      ]
    },
    {
      "cell_type": "code",
      "source": [
        "y_pred = voting_clf_hard.predict(x_test)\n",
        "#find majority vote of the predictors"
      ],
      "metadata": {
        "id": "9nErdruY4B-h"
      },
      "execution_count": null,
      "outputs": []
    },
    {
      "cell_type": "code",
      "source": [
        "from sklearn.metrics import accuracy_score\n",
        "\n",
        "accuracy_score(y_test, y_pred)"
      ],
      "metadata": {
        "colab": {
          "base_uri": "https://localhost:8080/"
        },
        "id": "xy9Msj4O4CA8",
        "outputId": "5968572e-c4a2-47ea-80a9-551d32ae9e31"
      },
      "execution_count": null,
      "outputs": [
        {
          "output_type": "execute_result",
          "data": {
            "text/plain": [
              "0.7848101265822784"
            ]
          },
          "metadata": {},
          "execution_count": 89
        }
      ]
    },
    {
      "cell_type": "code",
      "source": [
        "voting_clf_hard.classes_"
      ],
      "metadata": {
        "colab": {
          "base_uri": "https://localhost:8080/"
        },
        "id": "pQpHw9cl4Fj6",
        "outputId": "45698d14-94e3-427e-e03b-da5a07e21aa0"
      },
      "execution_count": null,
      "outputs": [
        {
          "output_type": "execute_result",
          "data": {
            "text/plain": [
              "array([0, 1])"
            ]
          },
          "metadata": {},
          "execution_count": 90
        }
      ]
    },
    {
      "cell_type": "code",
      "source": [
        "pred_results = pd.DataFrame({'y_test': y_test,\n",
        "                             'y_pred': y_pred})\n",
        "\n",
        "pred_results.head()"
      ],
      "metadata": {
        "colab": {
          "base_uri": "https://localhost:8080/",
          "height": 206
        },
        "id": "_fxtBjN04Fmm",
        "outputId": "ef705567-86e3-43e4-cf03-2646947789ee"
      },
      "execution_count": null,
      "outputs": [
        {
          "output_type": "execute_result",
          "data": {
            "text/plain": [
              "     y_test  y_pred\n",
              "69        0       0\n",
              "177       0       0\n",
              "119       0       1\n",
              "190       0       0\n",
              "132       0       1"
            ],
            "text/html": [
              "\n",
              "  <div id=\"df-c9614ca3-a022-4187-94aa-825d9ed9cae9\">\n",
              "    <div class=\"colab-df-container\">\n",
              "      <div>\n",
              "<style scoped>\n",
              "    .dataframe tbody tr th:only-of-type {\n",
              "        vertical-align: middle;\n",
              "    }\n",
              "\n",
              "    .dataframe tbody tr th {\n",
              "        vertical-align: top;\n",
              "    }\n",
              "\n",
              "    .dataframe thead th {\n",
              "        text-align: right;\n",
              "    }\n",
              "</style>\n",
              "<table border=\"1\" class=\"dataframe\">\n",
              "  <thead>\n",
              "    <tr style=\"text-align: right;\">\n",
              "      <th></th>\n",
              "      <th>y_test</th>\n",
              "      <th>y_pred</th>\n",
              "    </tr>\n",
              "  </thead>\n",
              "  <tbody>\n",
              "    <tr>\n",
              "      <th>69</th>\n",
              "      <td>0</td>\n",
              "      <td>0</td>\n",
              "    </tr>\n",
              "    <tr>\n",
              "      <th>177</th>\n",
              "      <td>0</td>\n",
              "      <td>0</td>\n",
              "    </tr>\n",
              "    <tr>\n",
              "      <th>119</th>\n",
              "      <td>0</td>\n",
              "      <td>1</td>\n",
              "    </tr>\n",
              "    <tr>\n",
              "      <th>190</th>\n",
              "      <td>0</td>\n",
              "      <td>0</td>\n",
              "    </tr>\n",
              "    <tr>\n",
              "      <th>132</th>\n",
              "      <td>0</td>\n",
              "      <td>1</td>\n",
              "    </tr>\n",
              "  </tbody>\n",
              "</table>\n",
              "</div>\n",
              "      <button class=\"colab-df-convert\" onclick=\"convertToInteractive('df-c9614ca3-a022-4187-94aa-825d9ed9cae9')\"\n",
              "              title=\"Convert this dataframe to an interactive table.\"\n",
              "              style=\"display:none;\">\n",
              "        \n",
              "  <svg xmlns=\"http://www.w3.org/2000/svg\" height=\"24px\"viewBox=\"0 0 24 24\"\n",
              "       width=\"24px\">\n",
              "    <path d=\"M0 0h24v24H0V0z\" fill=\"none\"/>\n",
              "    <path d=\"M18.56 5.44l.94 2.06.94-2.06 2.06-.94-2.06-.94-.94-2.06-.94 2.06-2.06.94zm-11 1L8.5 8.5l.94-2.06 2.06-.94-2.06-.94L8.5 2.5l-.94 2.06-2.06.94zm10 10l.94 2.06.94-2.06 2.06-.94-2.06-.94-.94-2.06-.94 2.06-2.06.94z\"/><path d=\"M17.41 7.96l-1.37-1.37c-.4-.4-.92-.59-1.43-.59-.52 0-1.04.2-1.43.59L10.3 9.45l-7.72 7.72c-.78.78-.78 2.05 0 2.83L4 21.41c.39.39.9.59 1.41.59.51 0 1.02-.2 1.41-.59l7.78-7.78 2.81-2.81c.8-.78.8-2.07 0-2.86zM5.41 20L4 18.59l7.72-7.72 1.47 1.35L5.41 20z\"/>\n",
              "  </svg>\n",
              "      </button>\n",
              "      \n",
              "  <style>\n",
              "    .colab-df-container {\n",
              "      display:flex;\n",
              "      flex-wrap:wrap;\n",
              "      gap: 12px;\n",
              "    }\n",
              "\n",
              "    .colab-df-convert {\n",
              "      background-color: #E8F0FE;\n",
              "      border: none;\n",
              "      border-radius: 50%;\n",
              "      cursor: pointer;\n",
              "      display: none;\n",
              "      fill: #1967D2;\n",
              "      height: 32px;\n",
              "      padding: 0 0 0 0;\n",
              "      width: 32px;\n",
              "    }\n",
              "\n",
              "    .colab-df-convert:hover {\n",
              "      background-color: #E2EBFA;\n",
              "      box-shadow: 0px 1px 2px rgba(60, 64, 67, 0.3), 0px 1px 3px 1px rgba(60, 64, 67, 0.15);\n",
              "      fill: #174EA6;\n",
              "    }\n",
              "\n",
              "    [theme=dark] .colab-df-convert {\n",
              "      background-color: #3B4455;\n",
              "      fill: #D2E3FC;\n",
              "    }\n",
              "\n",
              "    [theme=dark] .colab-df-convert:hover {\n",
              "      background-color: #434B5C;\n",
              "      box-shadow: 0px 1px 3px 1px rgba(0, 0, 0, 0.15);\n",
              "      filter: drop-shadow(0px 1px 2px rgba(0, 0, 0, 0.3));\n",
              "      fill: #FFFFFF;\n",
              "    }\n",
              "  </style>\n",
              "\n",
              "      <script>\n",
              "        const buttonEl =\n",
              "          document.querySelector('#df-c9614ca3-a022-4187-94aa-825d9ed9cae9 button.colab-df-convert');\n",
              "        buttonEl.style.display =\n",
              "          google.colab.kernel.accessAllowed ? 'block' : 'none';\n",
              "\n",
              "        async function convertToInteractive(key) {\n",
              "          const element = document.querySelector('#df-c9614ca3-a022-4187-94aa-825d9ed9cae9');\n",
              "          const dataTable =\n",
              "            await google.colab.kernel.invokeFunction('convertToInteractive',\n",
              "                                                     [key], {});\n",
              "          if (!dataTable) return;\n",
              "\n",
              "          const docLinkHtml = 'Like what you see? Visit the ' +\n",
              "            '<a target=\"_blank\" href=https://colab.research.google.com/notebooks/data_table.ipynb>data table notebook</a>'\n",
              "            + ' to learn more about interactive tables.';\n",
              "          element.innerHTML = '';\n",
              "          dataTable['output_type'] = 'display_data';\n",
              "          await google.colab.output.renderOutput(dataTable, element);\n",
              "          const docLink = document.createElement('div');\n",
              "          docLink.innerHTML = docLinkHtml;\n",
              "          element.appendChild(docLink);\n",
              "        }\n",
              "      </script>\n",
              "    </div>\n",
              "  </div>\n",
              "  "
            ]
          },
          "metadata": {},
          "execution_count": 91
        }
      ]
    },
    {
      "cell_type": "code",
      "source": [
        "for clf_hard in (log_clf, svc_clf, naive_clf, voting_clf_hard):\n",
        "    \n",
        "    clf_hard.fit(x_train, y_train)\n",
        "    y_pred = clf_hard.predict(x_test)\n",
        "    \n",
        "    print(clf_hard.__class__.__name__, accuracy_score(y_test, y_pred))\n",
        "\n",
        "    #You can see that SVC performed best \n",
        "    #Usually the majority vote ensemble technique performs better than any of the algorithms"
      ],
      "metadata": {
        "colab": {
          "base_uri": "https://localhost:8080/"
        },
        "id": "f222dEv64KYr",
        "outputId": "b0544de2-a3bb-4f5c-c8b7-7291e3e8724f"
      },
      "execution_count": null,
      "outputs": [
        {
          "output_type": "stream",
          "name": "stdout",
          "text": [
            "LogisticRegression 0.7848101265822784\n",
            "SVC 0.7848101265822784\n",
            "GaussianNB 0.759493670886076\n",
            "VotingClassifier 0.7848101265822784\n"
          ]
        }
      ]
    },
    {
      "cell_type": "markdown",
      "source": [
        "##Soft voting\n",
        "Soft voting classifier (voting='soft') predict the class with the highest class probability, averaged over all the individual classifiers.\n",
        "\n",
        "All of the above classifiers are by default enabled for probability estimates except SVC.\n",
        "So in SVC we have to pass one more parameter as probability=True"
      ],
      "metadata": {
        "id": "f7qX0a254Uuj"
      }
    },
    {
      "cell_type": "code",
      "source": [
        "svc_clf_soft = SVC(C=1, kernel='linear', gamma='auto', probability=True)"
      ],
      "metadata": {
        "id": "VbU1HMrK4KbT"
      },
      "execution_count": null,
      "outputs": []
    },
    {
      "cell_type": "code",
      "source": [
        "voting_clf_soft = VotingClassifier(estimators=[('lr', log_clf), \n",
        "                                               ('svc', svc_clf_soft), \n",
        "                                               ('naive', naive_clf)],\n",
        "                                   voting='soft', \n",
        "                                   weights = [0.25,0.5,0.25])\n",
        "\n",
        "#assigns weights to each algorithm in the ensemble"
      ],
      "metadata": {
        "id": "VHFnoXCZ4CDh"
      },
      "execution_count": null,
      "outputs": []
    },
    {
      "cell_type": "code",
      "source": [
        "for clf_soft in (log_clf, svc_clf_soft, naive_clf, voting_clf_soft):\n",
        "    \n",
        "    clf_soft.fit(x_train, y_train)\n",
        "    y_pred = clf_soft.predict(x_test)\n",
        "    \n",
        "    print(clf_soft.__class__.__name__, accuracy_score(y_test, y_pred))"
      ],
      "metadata": {
        "colab": {
          "base_uri": "https://localhost:8080/"
        },
        "id": "v2hAUqSI4CGW",
        "outputId": "24c24721-9a2d-4896-d7c9-8edb6526adc4"
      },
      "execution_count": null,
      "outputs": [
        {
          "output_type": "stream",
          "name": "stdout",
          "text": [
            "LogisticRegression 0.7848101265822784\n",
            "SVC 0.7848101265822784\n",
            "GaussianNB 0.759493670886076\n",
            "VotingClassifier 0.7721518987341772\n"
          ]
        }
      ]
    },
    {
      "cell_type": "code",
      "source": [
        ""
      ],
      "metadata": {
        "id": "y0R73NrH1_d3"
      },
      "execution_count": null,
      "outputs": []
    }
  ]
}